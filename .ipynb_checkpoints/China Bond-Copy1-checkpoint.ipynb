{
 "cells": [
  {
   "cell_type": "code",
   "execution_count": 1,
   "metadata": {
    "collapsed": true
   },
   "outputs": [],
   "source": [
    "import requests\n",
    "import numpy as np\n",
    "import pandas as pd\n",
    "import bs4\n",
    "import re\n",
    "import json"
   ]
  },
  {
   "cell_type": "code",
   "execution_count": 2,
   "metadata": {
    "collapsed": true
   },
   "outputs": [],
   "source": [
    "def extract_link(line):\n",
    "    node = line.find('a', href = True)\n",
    "    if node != None and 'href' in node.attrs:\n",
    "        return('http://www.chinamoney.com.cn' + node['href'])"
   ]
  },
  {
   "cell_type": "code",
   "execution_count": 3,
   "metadata": {
    "collapsed": true
   },
   "outputs": [],
   "source": [
    "def parse_link(link):\n",
    "    return bs4.BeautifulSoup(requests.get(link).content, 'html.parser')"
   ]
  },
  {
   "cell_type": "code",
   "execution_count": 4,
   "metadata": {
    "collapsed": true
   },
   "outputs": [],
   "source": [
    "# This function returns all the texts from the page navigation part 'market note',\n",
    "# and checks if there is a \"next page\" option\n",
    "\n",
    "def last_page(page):\n",
    "    nodes = page.find('td', class_ = 'market-note-1').find_all('a')\n",
    "    return '下一页' not in [a.get_text() for a in nodes]"
   ]
  },
  {
   "cell_type": "code",
   "execution_count": 5,
   "metadata": {
    "collapsed": true
   },
   "outputs": [],
   "source": [
    "# make a list of strings unique by appending \"_1\", \"_2\", etc. to duplicate entries\n",
    "\n",
    "def uniquify(df_columns):\n",
    "    seen = set()\n",
    "\n",
    "    for item in df_columns:\n",
    "        fudge = 1\n",
    "        newitem = item\n",
    "\n",
    "        while newitem in seen:\n",
    "            fudge += 1\n",
    "            newitem = \"{}_{}\".format(item, fudge)\n",
    "\n",
    "        yield newitem\n",
    "        seen.add(newitem)"
   ]
  },
  {
   "cell_type": "code",
   "execution_count": 159,
   "metadata": {
    "collapsed": true
   },
   "outputs": [],
   "source": [
    "# download terms and conditions from a hyperlink\n",
    "\n",
    "def get_TC(link):\n",
    "    \n",
    "    tcpage = parse_link(link)\n",
    "    \n",
    "    # Get text from the lines, remove whitespaces and the last line which is redundant\n",
    "    tc = [re.sub('\\s', '', x.get_text()) for x in tcpage.find_all('td', {'class': ['bdr-rgt1', 'row2']})][10:-1]\n",
    "    \n",
    "    tcdf = pd.DataFrame([tc[1::2]], columns = tc[0:-1:2])\n",
    "    \n",
    "    # Change column names from Chinese to English\n",
    "    tcdf = format_bond_list(tcdf)\n",
    "    \n",
    "    # Make columns unique by appending numbers if there are multiple follow-ons\n",
    "    tcdf.columns = list(uniquify(tcdf.columns))\n",
    "    \n",
    "    return tcdf"
   ]
  },
  {
   "cell_type": "code",
   "execution_count": 157,
   "metadata": {
    "collapsed": true
   },
   "outputs": [],
   "source": [
    "# Append two dataframes preserving the column orders\n",
    "\n",
    "def TC_append(df1, df2):\n",
    "    cols = df1.columns if len(df1.columns) > len(df2.columns) else df2.columns\n",
    "    df = pd.concat([df1, df2])[cols]\n",
    "    return df"
   ]
  },
  {
   "cell_type": "code",
   "execution_count": 8,
   "metadata": {
    "collapsed": true
   },
   "outputs": [],
   "source": [
    "def list_from_page(page):\n",
    "    \n",
    "    # Isolate the table containing bond information, based on the HTML tag and classes\n",
    "    nodes = page.find_all('td', {'class': ['dreport-row1', 'dreport-row2']})\n",
    "    \n",
    "    # From each line in the table, extract the text, and then put everything into a list\n",
    "    bondList = [line.get_text().replace('\\xa0', '') for line in nodes]\n",
    "    length = len(bondList)\n",
    "    \n",
    "    bondList = pd.DataFrame(np.array(bondList).reshape(length//6, 6), # reshape the list to a 6-column numpy array\n",
    "                            columns = ['Short Name', 'Code', 'Issuer', 'Bond Type', 'Issue Date', 'Latest Rating'])\n",
    "    \n",
    "    # Append the hyperlinks to bond pages to the dataframe\n",
    "    bondList['Link'] = pd.Series([extract_link(nodes[i]) for i in range(0, length, 6)])\n",
    "    \n",
    "    return bondList"
   ]
  },
  {
   "cell_type": "code",
   "execution_count": 9,
   "metadata": {
    "collapsed": true
   },
   "outputs": [],
   "source": [
    "def format_bond_list(df):\n",
    "    nameDict = {'债券简称': 'Short Name',\n",
    "                '债券代码': 'Code',\n",
    "                '发行人': 'Issuer',\n",
    "                '债券类型': 'Bond Type',\n",
    "                '发行日期': 'Issue Date',\n",
    "                '最新评级': 'Latest Rating',\n",
    "                '债券发行日': 'Issue Date',\n",
    "                '到期兑付日': 'Maturity Date',\n",
    "                '上市交易日': 'First Trade Date',\n",
    "                '债券摘牌日': 'Last Trade Date',\n",
    "                '债券期限': 'Tenor',\n",
    "                '流通范围': 'Circulation Range',\n",
    "                '面值(元)': 'Face Value',\n",
    "                '发行价格(元)': 'Issue Price',\n",
    "                '计划发行量(亿)': 'Planned Issue Amount (100 millions)',\n",
    "                '实际发行量(亿)': 'Actual Issue Amount (100 millions)',\n",
    "                '币种': 'Currency',\n",
    "                '计息基础': 'Day Count Basis',\n",
    "                '息票类型': 'Coupon Type',\n",
    "                '债券起息日': 'Dated Date',\n",
    "                '付息频率': 'Coupon Frequency',\n",
    "                '票面利率(%)': 'Coupon Rate',\n",
    "                '发行收益率(%)': 'Yield at Issue',\n",
    "                '参考收益率(%)': 'Yield for Reference',\n",
    "                '基准利率': 'Reference Rate',\n",
    "                '基准利差(BP)': 'Spread to Reference Rate', \n",
    "                '信用评级机构一': 'Rating Agency 1',\n",
    "                '债项/主体评级一': 'Issue/Issuer Rating 1',\n",
    "                '信用评级机构二': 'Rating Agency 2',\n",
    "                '债项/主体评级二': 'Issue/Issuer Rating 2',\n",
    "                '行权类型': 'Option Type',\n",
    "                '行权日期': 'Option Date',\n",
    "                '托管机构': 'Clearing House',\n",
    "                '续发行发行日': 'Follow-on Issue Date',\n",
    "                '续发行上市交易日': ' Follow-on First Trade Date',\n",
    "                '计划续发行总额(亿)': 'Planned Follow-on Amount (100 millions)',\n",
    "                '实际续发行总额(亿)': 'Actual Follow-on Amount (100 millions)',\n",
    "                '续发行价格(元)': 'Follow-on Issue Price',\n",
    "                '续发行收益率(%)': 'Follow-on Yield at Issue',\n",
    "                '备注': 'Notes'}\n",
    "\n",
    "    df.columns = df.columns.to_series().map(lambda x: nameDict[x] if x in nameDict.keys() else x)\n",
    "    \n",
    "    return df"
   ]
  },
  {
   "cell_type": "code",
   "execution_count": null,
   "metadata": {
    "collapsed": true
   },
   "outputs": [],
   "source": [
    "def get_bond_list(bondType = '', couponType = '', issueYear = '', startPage = 1, endPage = ''):\n",
    "    \n",
    "    output = pd.DataFrame()\n",
    "    params = {'bondName':'', 'bondCode':'', 'bondType': bondType, 'issueEnty':'',\n",
    "             'couponType':couponType, 'issueYear':issueYear, 'enty':'', 'rtngShrt':'', 'pagingPage_il':startPage}\n",
    "    \n",
    "    for page in range(startPage, endPage+1):\n",
    "        \n",
    "        params['pagingPage_il'] = page\n",
    "        \n",
    "        response = requests.get('http://www.chinamoney.com.cn/dqs/rest/cm-u-pt/bondInfoList', params = params)\n",
    "        \n",
    "        #convert response to a dict\n",
    "        response_dict = json.loads(response.text)\n",
    "        \n",
    "        #check if the loop has reached the last page\n",
    "        if page > response_dict['data']['totalPages']:\n",
    "            break\n",
    "        \n",
    "        #bond list from the 'records' entry in the dict\n",
    "        bond_list = pd.DataFrame(response_dict['records'])\n",
    "    \n",
    "        #for each bond in the list, download its T&C and combine them into a DataFrame\n",
    "        TC = pd.DataFrame()\n",
    "        for code in bond_list['definedCode']: \n",
    "            output = TC_append(output, TC_from_code(code))\n",
    "        \n",
    "        page+=1\n",
    "        \n",
    "    return output"
   ]
  },
  {
   "cell_type": "code",
   "execution_count": 18,
   "metadata": {
    "collapsed": true
   },
   "outputs": [],
   "source": [
    "'''def get_bond_list(bondType = '', couponType = '', issueYear = '', rtngShrt= '', startPage = 1, endPage = ''):\n",
    "    \n",
    "    output = pd.DataFrame()\n",
    "    page = startPage\n",
    "    \n",
    "    while True:\n",
    "        link = ('http://www.chinamoney.com.cn/fe/chinamoney/searchBondInfoForward.action?rtngShrt=' + str(rtngShrt)\n",
    "                + '&pagingPage_il_='+ str(page) + '&issueEnty=&couponType=' + str(couponType)\n",
    "                + '&enty=&issueYear=' + str(issueYear) + '&bondType=' + str(bondType) + '&bondName=&bondCode=&')\n",
    "        \n",
    "        webpage = parse_link(link)\n",
    "        \n",
    "        # bond list\n",
    "        bondList = list_from_page(webpage)\n",
    "        \n",
    "        # For each bond in the links, get its T&C and combine all T&C into a dataframe called TC\n",
    "        TC = pd.DataFrame()\n",
    "        for link in bondList['Link']: TC = TC_append(TC, get_TC(link))\n",
    "        \n",
    "        # Merge the bond list with the TC table\n",
    "        bondList = bondList.merge(TC, how = 'outer')\n",
    "            \n",
    "            \n",
    "        output = TC_append(output, bondList)\n",
    "        page += 1\n",
    "        \n",
    "        if last_page(webpage) or page > endPage: return output #if the current downloaded page is the last page, exit loop"
   ]
  },
  {
   "cell_type": "code",
   "execution_count": 11,
   "metadata": {
    "collapsed": true
   },
   "outputs": [],
   "source": [
    "# remove unnecessary columns and write results to csv\n",
    "\n",
    "def output_list(df, path):\n",
    "    \n",
    "    cols = ['Last Trade Date', 'Tenor', 'Circulation Range', 'Planned Issue Amount (100 millions)',\n",
    "            'Yield for Reference', 'Reference Rate', 'Spread to Reference Rate', 'Rating Agency 1',\n",
    "            'Issue/Issuer Rating 1', 'Rating Agency 2', 'Issue/Issuer Rating 2']\n",
    "    \n",
    "    df.drop(cols, axis = 1).to_csv(path, index = False, encoding = 'utf-8')"
   ]
  },
  {
   "cell_type": "code",
   "execution_count": 28,
   "metadata": {
    "collapsed": true
   },
   "outputs": [],
   "source": [
    "# download the master mapping table from cninfo\n",
    "\n",
    "def get_bond_map():\n",
    "    \n",
    "    webpage = requests.get('http://www.cninfo.com.cn/disclosure/bondcross-references.jsp')\n",
    "    \n",
    "    # encoding parameter is necessary as some characters used are outside of the specified char set\n",
    "    soup = bs4.BeautifulSoup(webpage.content, 'html.parser', from_encoding='GB18030')\n",
    "    \n",
    "    data = [x.get_text() for x in soup.find_all('td', {'class': ['zx_center_title', 'zx_data6']})]\n",
    "    data = np.array(data).reshape(len(data)//8,8)\n",
    "    \n",
    "    # put the data into a dataframe, using the first row as column headers\n",
    "    bond_map = pd.DataFrame(data[1:,:], columns = data[0,:])\n",
    "    \n",
    "    return bond_map"
   ]
  },
  {
   "cell_type": "code",
   "execution_count": 126,
   "metadata": {
    "collapsed": true
   },
   "outputs": [],
   "source": [
    "# Change the layout of the map to enable lookup\n",
    "\n",
    "def gather_map(bond_map):\n",
    "    \n",
    "    bond_map = pd.melt(bond_map, id_vars = ['债券名称', '到期日期'],\n",
    "                               value_vars = ['深交所代码', '上交所代码', '银行间代码'],\n",
    "                               var_name = '交易所', value_name = '代码')\n",
    "    bond_map['交易所'] = bond_map['交易所'].str.replace('代码', '')\n",
    "    \n",
    "    return bond_map"
   ]
  },
  {
   "cell_type": "code",
   "execution_count": 269,
   "metadata": {},
   "outputs": [
    {
     "data": {
      "text/plain": [
       "0     NaN\n",
       "1     NaN\n",
       "2     NaN\n",
       "3     NaN\n",
       "4     NaN\n",
       "5     NaN\n",
       "6     NaN\n",
       "7     NaN\n",
       "8     NaN\n",
       "9     NaN\n",
       "10    NaN\n",
       "11    NaN\n",
       "12    NaN\n",
       "13    NaN\n",
       "14    NaN\n",
       "15    NaN\n",
       "16    NaN\n",
       "17    NaN\n",
       "18    NaN\n",
       "19    NaN\n",
       "20    NaN\n",
       "21    NaN\n",
       "22    NaN\n",
       "23    NaN\n",
       "24    NaN\n",
       "25    NaN\n",
       "26    NaN\n",
       "27    NaN\n",
       "28    NaN\n",
       "29    NaN\n",
       "       ..\n",
       "258   NaN\n",
       "259   NaN\n",
       "260   NaN\n",
       "261   NaN\n",
       "262   NaN\n",
       "263   NaN\n",
       "264   NaN\n",
       "265   NaN\n",
       "266   NaN\n",
       "267   NaN\n",
       "268   NaN\n",
       "269   NaN\n",
       "270   NaN\n",
       "271   NaN\n",
       "272   NaN\n",
       "273   NaN\n",
       "274   NaN\n",
       "275   NaN\n",
       "276   NaN\n",
       "277   NaN\n",
       "278   NaN\n",
       "279   NaN\n",
       "280   NaN\n",
       "281   NaN\n",
       "282   NaN\n",
       "283   NaN\n",
       "284   NaN\n",
       "285   NaN\n",
       "286   NaN\n",
       "287   NaN\n",
       "Length: 288, dtype: float64"
      ]
     },
     "execution_count": 269,
     "metadata": {},
     "output_type": "execute_result"
    }
   ],
   "source": [
    "def map_exchange(row, bondmap):\n",
    "    if (row['Code'], row['Maturity Date']) in bondmap.index:\n",
    "        return bondmap.loc[(row['Code'], row['Maturity Date']),'交易所']\n",
    "    else:\n",
    "        return np.nan\n",
    "        \n",
    "output1.apply(lambda row: map_exchange(row, bondmap1), axis = 1).sort_values()"
   ]
  },
  {
   "cell_type": "markdown",
   "metadata": {},
   "source": [
    "## Functions to download T&C given a list of symbols"
   ]
  },
  {
   "cell_type": "code",
   "execution_count": 31,
   "metadata": {
    "collapsed": true
   },
   "outputs": [],
   "source": [
    "# Convert symbols to codes used in the URLs\n",
    "\n",
    "def find_code(symbol):\n",
    "    \n",
    "    soup = parse_link('http://www.chinamoney.com.cn/fe/chinamoney/seniorSearchAjaxAction.action?bondCode=' \n",
    "                         + str(symbol) + '&bondName=')\n",
    "    code = re.search('[0-9]+',str(soup))\n",
    "    \n",
    "    if code == None:\n",
    "        flag = False\n",
    "        code = None\n",
    "    else:\n",
    "        flag = True\n",
    "        code = code.group(0)\n",
    "    \n",
    "    return flag, code"
   ]
  },
  {
   "cell_type": "code",
   "execution_count": 108,
   "metadata": {
    "collapsed": true
   },
   "outputs": [],
   "source": [
    "def TC_from_code(code):\n",
    "    \n",
    "    link = 'http://www.chinamoney.com.cn/fe/chinamoney/searchDetailInfo.action?entyCode=' + code\n",
    "    TC = get_TC(link)\n",
    "        \n",
    "    return TC"
   ]
  },
  {
   "cell_type": "code",
   "execution_count": 144,
   "metadata": {
    "collapsed": true
   },
   "outputs": [],
   "source": [
    "'''def TC_from_symbol(start, end):\n",
    "    \n",
    "    TC = pd.DataFrame()\n",
    "    \n",
    "    for symbol in mmlist[start:end]:\n",
    "        \n",
    "        flag, code = find_code(symbol)\n",
    "        if flag == True:\n",
    "            link = 'http://www.chinamoney.com.cn/fe/chinamoney/searchDetailInfo.action?entyCode=' + code\n",
    "            TC = TC_append(TC, get_TC(link))\n",
    "        \n",
    "    return TC'''"
   ]
  }
 ],
 "metadata": {
  "kernelspec": {
   "display_name": "Python 3",
   "language": "python",
   "name": "python3"
  },
  "language_info": {
   "codemirror_mode": {
    "name": "ipython",
    "version": 3
   },
   "file_extension": ".py",
   "mimetype": "text/x-python",
   "name": "python",
   "nbconvert_exporter": "python",
   "pygments_lexer": "ipython3",
   "version": "3.6.2"
  }
 },
 "nbformat": 4,
 "nbformat_minor": 2
}
