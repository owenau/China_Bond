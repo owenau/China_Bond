{
 "cells": [
  {
   "cell_type": "code",
   "execution_count": 150,
   "metadata": {
    "collapsed": true
   },
   "outputs": [],
   "source": [
    "import requests\n",
    "import numpy as np\n",
    "import pandas as pd\n",
    "import bs4\n",
    "import re\n",
    "import json"
   ]
  },
  {
   "cell_type": "code",
   "execution_count": 151,
   "metadata": {
    "collapsed": true
   },
   "outputs": [],
   "source": [
    "def parse_link(link):\n",
    "    \n",
    "    parsed = bs4.BeautifulSoup(requests.get(link).content, 'html.parser')\n",
    "    \n",
    "    return parsed"
   ]
  },
  {
   "cell_type": "code",
   "execution_count": 152,
   "metadata": {
    "collapsed": true
   },
   "outputs": [],
   "source": [
    "# make a list of strings unique by appending \"_1\", \"_2\", etc. to duplicate entries\n",
    "\n",
    "def uniquify(df_columns):\n",
    "    seen = set()\n",
    "\n",
    "    for item in df_columns:\n",
    "        fudge = 1\n",
    "        newitem = item\n",
    "\n",
    "        while newitem in seen:\n",
    "            fudge += 1\n",
    "            newitem = \"{}_{}\".format(item, fudge)\n",
    "\n",
    "        yield newitem\n",
    "        seen.add(newitem)"
   ]
  },
  {
   "cell_type": "code",
   "execution_count": 153,
   "metadata": {
    "collapsed": true
   },
   "outputs": [],
   "source": [
    "# download terms and conditions from a hyperlink\n",
    "\n",
    "def get_TC(link):\n",
    "    \n",
    "    tc_page = parse_link(link)\n",
    "    \n",
    "    # Get text from the lines, remove whitespaces, and the first and last lines (title and footnote)\n",
    "    tc = [re.sub('\\s', '', x.get_text()) for x in tc_page.select('td + .bdr-dtail td')][1:-1]\n",
    "    \n",
    "    tc_df = pd.DataFrame([tc[1::2]], columns = tc[0:-1:2])\n",
    "    \n",
    "    # Change column names from Chinese to English\n",
    "    tc_df = translate_column_headers(tc_df)\n",
    "    \n",
    "    # Make columns unique by appending numbers if there are multiple follow-ons\n",
    "    tc_df.columns = list(uniquify(tc_df.columns))\n",
    "    \n",
    "    return tc_df\n"
   ]
  },
  {
   "cell_type": "code",
   "execution_count": 154,
   "metadata": {
    "collapsed": true
   },
   "outputs": [],
   "source": [
    "# Append two dataframes preserving the column orders of the wider dataframe (direct appendation would change the column order)\n",
    "\n",
    "def TC_append(df1, df2):\n",
    "    \n",
    "    cols = df1.columns if len(df1.columns) > len(df2.columns) else df2.columns\n",
    "    df = pd.concat([df1, df2])[cols]\n",
    "    \n",
    "    return df\n"
   ]
  },
  {
   "cell_type": "code",
   "execution_count": 155,
   "metadata": {
    "collapsed": true
   },
   "outputs": [],
   "source": [
    "def translate_column_headers(df):\n",
    "    nameDict = {'债券简称': 'Short Name',\n",
    "                '债券代码': 'Code',\n",
    "                '发行人': 'Issuer',\n",
    "                '债券类型': 'Bond Type',\n",
    "                '发行日期': 'Issue Date',\n",
    "                '最新评级': 'Latest Rating',\n",
    "                '债券发行日': 'Issue Date',\n",
    "                '到期兑付日': 'Maturity Date',\n",
    "                '上市交易日': 'First Trade Date',\n",
    "                '债券摘牌日': 'Last Trade Date',\n",
    "                '债券期限': 'Tenor',\n",
    "                '流通范围': 'Circulation Range',\n",
    "                '面值(元)': 'Face Value',\n",
    "                '发行价格(元)': 'Issue Price',\n",
    "                '计划发行量(亿)': 'Planned Issue Amount (100 millions)',\n",
    "                '实际发行量(亿)': 'Actual Issue Amount (100 millions)',\n",
    "                '币种': 'Currency',\n",
    "                '计息基础': 'Day Count Basis',\n",
    "                '息票类型': 'Coupon Type',\n",
    "                '债券起息日': 'Dated Date',\n",
    "                '付息频率': 'Coupon Frequency',\n",
    "                '票面利率(%)': 'Coupon Rate',\n",
    "                '发行收益率(%)': 'Yield at Issue',\n",
    "                '参考收益率(%)': 'Yield for Reference',\n",
    "                '基准利率': 'Reference Rate',\n",
    "                '基准利差(BP)': 'Spread to Reference Rate', \n",
    "                '信用评级机构一': 'Rating Agency 1',\n",
    "                '债项/主体评级一': 'Issue/Issuer Rating 1',\n",
    "                '信用评级机构二': 'Rating Agency 2',\n",
    "                '债项/主体评级二': 'Issue/Issuer Rating 2',\n",
    "                '行权类型': 'Option Type',\n",
    "                '行权日期': 'Option Date',\n",
    "                '托管机构': 'Clearing House',\n",
    "                '续发行发行日': 'Follow-on Issue Date',\n",
    "                '续发行上市交易日': ' Follow-on First Trade Date',\n",
    "                '计划续发行总额(亿)': 'Planned Follow-on Amount (100 millions)',\n",
    "                '实际续发行总额(亿)': 'Actual Follow-on Amount (100 millions)',\n",
    "                '续发行价格(元)': 'Follow-on Issue Price',\n",
    "                '续发行收益率(%)': 'Follow-on Yield at Issue',\n",
    "                '备注': 'Notes'}\n",
    "\n",
    "    df.columns = df.columns.to_series().map(lambda x: nameDict[x] if x in nameDict.keys() else x)\n",
    "    \n",
    "    return df"
   ]
  },
  {
   "cell_type": "code",
   "execution_count": 165,
   "metadata": {
    "collapsed": true
   },
   "outputs": [],
   "source": [
    "# given search criteria, download T&C of all bonds to a dataframe\n",
    "\n",
    "def get_bond_list(bondType = '', couponType = '', issueYear = '', startPage = 1, endPage = np.nan):\n",
    "    \n",
    "    output = pd.DataFrame()\n",
    "    page = startPage\n",
    "    \n",
    "    #parameters for the link\n",
    "    params = {'bondName':'', 'bondCode':'', 'bondType': bondType, 'issueEnty':'',\n",
    "             'couponType':couponType, 'issueYear':issueYear, 'enty':'', 'rtngShrt':''}\n",
    "    \n",
    "    while True:\n",
    "        \n",
    "        params['pagingPage_il_'] = page\n",
    "        \n",
    "        response = requests.get('http://www.chinamoney.com.cn/dqs/rest/cm-u-pt/bondInfoList', params = params)\n",
    "        \n",
    "        #convert response to a dict\n",
    "        response_dict = json.loads(response.text)\n",
    "        \n",
    "        #check if the loop has reached the last page\n",
    "        if page > response_dict['data']['totalPages'] or page > endPage:\n",
    "            break\n",
    "            \n",
    "        if page%10 == 1:\n",
    "            print(\"Downloading page {}\".format(page))\n",
    "        \n",
    "        #bond list from the 'records' entry in the dict\n",
    "        bond_list = pd.DataFrame(response_dict['records'])\n",
    "    \n",
    "        #for each bond in the list, download its T&C and combine them into a DataFrame\n",
    "        \n",
    "        for code in bond_list['definedCode']: \n",
    "            \n",
    "            link = 'http://www.chinamoney.com.cn/fe/chinamoney/searchDetailInfo.action?entyCode=' + code\n",
    "            TC = get_TC(link)\n",
    "            \n",
    "            # add the T&C link to the output dataframe in case the T&C is blank\n",
    "            TC['Link'] = link\n",
    "            \n",
    "            output = TC_append(output, TC)\n",
    "        \n",
    "        page+=1\n",
    "        \n",
    "    return output"
   ]
  },
  {
   "cell_type": "code",
   "execution_count": 157,
   "metadata": {
    "collapsed": true
   },
   "outputs": [],
   "source": [
    "# download the master mapping table from cninfo\n",
    "\n",
    "def get_bond_map():\n",
    "    \n",
    "    webpage = requests.get('http://www.cninfo.com.cn/disclosure/bondcross-references.jsp')\n",
    "    \n",
    "    # encoding parameter is necessary as some characters used are outside of the specified char set\n",
    "    soup = bs4.BeautifulSoup(webpage.content, 'html.parser', from_encoding='GB18030')\n",
    "    \n",
    "    data = [x.get_text() for x in soup.find_all('td', {'class': ['zx_center_title', 'zx_data6']})]\n",
    "    data = np.array(data).reshape(-1,8)\n",
    "    \n",
    "    # put the data into a dataframe, using the first row as column headers\n",
    "    bond_map = pd.DataFrame(data[1:,:], columns = data[0,:])\n",
    "    \n",
    "    return bond_map"
   ]
  },
  {
   "cell_type": "code",
   "execution_count": 158,
   "metadata": {
    "collapsed": true
   },
   "outputs": [],
   "source": [
    "# Change the layout of the map to enable lookup\n",
    "\n",
    "def gather_map(bond_map):\n",
    "    \n",
    "    bond_map = pd.melt(bond_map, id_vars = ['债券名称', '到期日期'],\n",
    "                               value_vars = ['深交所代码', '上交所代码', '银行间代码'],\n",
    "                               var_name = '交易所', value_name = '代码')\n",
    "    bond_map['交易所'] = bond_map['交易所'].str.replace('代码', '')\n",
    "    \n",
    "    return bond_map"
   ]
  },
  {
   "cell_type": "code",
   "execution_count": 159,
   "metadata": {
    "collapsed": true
   },
   "outputs": [],
   "source": [
    "# Map the exchange for each row of a dataframe\n",
    "\n",
    "def map_exchange(row, bondmap):\n",
    "    \n",
    "    if (row['Code'], row['Maturity Date']) in bondmap.index:\n",
    "        exchange = bondmap.loc[(row['Code'], row['Maturity Date']),'交易所']\n",
    "    else:\n",
    "        exchange = np.nan\n",
    "    \n",
    "    return exchange"
   ]
  },
  {
   "cell_type": "markdown",
   "metadata": {},
   "source": [
    "## Functions to download T&C given a list of symbols"
   ]
  },
  {
   "cell_type": "code",
   "execution_count": 160,
   "metadata": {
    "collapsed": true
   },
   "outputs": [],
   "source": [
    "# Convert symbols to codes used in the URLs\n",
    "\n",
    "def find_code(symbol):\n",
    "    \n",
    "    parsed = parse_link('http://www.chinamoney.com.cn/fe/chinamoney/seniorSearchAjaxAction.action?bondCode=' \n",
    "                         + str(symbol) + '&bondName=')\n",
    "    code = re.search('[0-9]+',str(parsed))\n",
    "    \n",
    "    if code != None:\n",
    "        code = code.group(0)\n",
    "    \n",
    "    return code"
   ]
  },
  {
   "cell_type": "code",
   "execution_count": 161,
   "metadata": {
    "collapsed": true
   },
   "outputs": [],
   "source": [
    "def TC_from_symbol(symbol):\n",
    "    \n",
    "    code = find_code(symbol)\n",
    "    link = 'http://www.chinamoney.com.cn/fe/chinamoney/searchDetailInfo.action?entyCode=' + code\n",
    "    TC = get_TC(link)\n",
    "        \n",
    "    return TC"
   ]
  },
  {
   "cell_type": "markdown",
   "metadata": {},
   "source": [
    "## Function to output"
   ]
  },
  {
   "cell_type": "code",
   "execution_count": 163,
   "metadata": {
    "collapsed": true
   },
   "outputs": [],
   "source": [
    "# remove unnecessary columns and write results to csv\n",
    "\n",
    "def output_list(df, path):\n",
    "    \n",
    "    cols = ['Last Trade Date', 'Tenor', 'Circulation Range', 'Planned Issue Amount (100 millions)',\n",
    "            'Yield for Reference', 'Reference Rate', 'Spread to Reference Rate', 'Rating Agency 1',\n",
    "            'Issue/Issuer Rating 1', 'Rating Agency 2', 'Issue/Issuer Rating 2']\n",
    "    \n",
    "    df.drop(cols, axis = 1).to_csv(path, index = False, encoding = 'utf-8')"
   ]
  },
  {
   "cell_type": "code",
   "execution_count": 166,
   "metadata": {},
   "outputs": [
    {
     "name": "stdout",
     "output_type": "stream",
     "text": [
      "Downloading page 1\n",
      "Downloading page 11\n",
      "Downloading page 21\n",
      "Downloading page 31\n",
      "Downloading page 41\n",
      "Downloading page 51\n",
      "Downloading page 61\n",
      "Downloading page 71\n",
      "Downloading page 81\n",
      "Downloading page 91\n",
      "Downloading page 101\n",
      "Downloading page 111\n"
     ]
    }
   ],
   "source": [
    "interbank_1 = get_bond_list(bondType = 100041, couponType = '', issueYear = 2017, starPage = 1, endPage = 100)"
   ]
  },
  {
   "cell_type": "code",
   "execution_count": 169,
   "metadata": {},
   "outputs": [],
   "source": [
    "sst.to_csv('C:/Users/oou/Desktop/Analytics/China Bond/Downloads/Jan 2017/sst1.csv', index = False, encoding = 'utf-8', quoting = )"
   ]
  }
 ],
 "metadata": {
  "kernelspec": {
   "display_name": "Python 3",
   "language": "python",
   "name": "python3"
  },
  "language_info": {
   "codemirror_mode": {
    "name": "ipython",
    "version": 3
   },
   "file_extension": ".py",
   "mimetype": "text/x-python",
   "name": "python",
   "nbconvert_exporter": "python",
   "pygments_lexer": "ipython3",
   "version": "3.6.2"
  }
 },
 "nbformat": 4,
 "nbformat_minor": 2
}
